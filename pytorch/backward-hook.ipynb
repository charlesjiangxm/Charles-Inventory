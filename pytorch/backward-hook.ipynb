{
 "cells": [
  {
   "cell_type": "markdown",
   "metadata": {},
   "source": [
    "Define the Model\n",
    "---\n",
    "Also register the forward and backward hook  \n",
    "via https://zhuanlan.zhihu.com/p/75054200"
   ]
  },
  {
   "cell_type": "code",
   "execution_count": 1,
   "metadata": {},
   "outputs": [],
   "source": [
    "import torch\n",
    "from torch import nn\n",
    "\n",
    "# 首先我们定义一个模型\n",
    "class Model(nn.Module):\n",
    "    def __init__(self):\n",
    "        super(Model, self).__init__()\n",
    "        self.fc1 = nn.Linear(3, 4)\n",
    "        self.relu1 = nn.ReLU()\n",
    "        self.fc2 = nn.Linear(4, 1)\n",
    "        self.initialize()\n",
    "    \n",
    "    # 为了方便验证，我们将指定特殊的weight和bias\n",
    "    def initialize(self):\n",
    "        self.fc1.weight = torch.nn.Parameter(torch.Tensor([[1., 2., 3.],\n",
    "                                                           [-4., -5., -6.],\n",
    "                                                           [7., 8., 9.],\n",
    "                                                           [-10., -11., -12.]]))\n",
    "        self.fc1.bias = torch.nn.Parameter(torch.Tensor([1.0, 2.0, 3.0, 4.0]))\n",
    "        self.fc2.weight = torch.nn.Parameter(torch.Tensor([[1.0, 2.0, 3.0, 4.0]]))\n",
    "        self.fc2.bias = torch.nn.Parameter(torch.Tensor([2.0]))\n",
    "\n",
    "    def forward(self, x):\n",
    "        o = self.fc1(x)\n",
    "        o = self.relu1(o)\n",
    "        o = self.fc2(o)\n",
    "        return o\n",
    "\n",
    "# 全局变量，用于存储中间层的 feature\n",
    "total_feat_out = []\n",
    "total_feat_in = []\n",
    "total_grad_in = []\n",
    "total_grad_out = []\n",
    "\n",
    "# 定义 forward hook function\n",
    "def hook_fn_forward(module, input, output):\n",
    "    print(module) # 用于区分layer\n",
    "    print('input', input) # 首先打印出来\n",
    "    print('output', output)\n",
    "    print()\n",
    "    total_feat_out.append(output) # 然后分别存入全局 list 中\n",
    "    total_feat_in.append(input)\n",
    "    \n",
    "def hook_fn_backward(module, grad_input, grad_output):\n",
    "    print(module) # 为了区分layer\n",
    "    print('grad_input', grad_output)  # 为了符合反向传播的顺序，我们先打印 grad_output\n",
    "    print('grad_output', grad_input)  # 再打印 grad_input\n",
    "    print()\n",
    "    # 保存到全局变量\n",
    "    total_grad_in.append(grad_input)\n",
    "    total_grad_out.append(grad_output)\n",
    "\n",
    "model = Model()\n",
    "modules = model.named_children()\n",
    "\n",
    "# register forward and backward hook for all the layers.\n",
    "for name, module in modules:\n",
    "    module.register_forward_hook(hook_fn_forward)\n",
    "    module.register_backward_hook(hook_fn_backward)"
   ]
  },
  {
   "cell_type": "markdown",
   "metadata": {},
   "source": [
    "Forward/Backward Hook\n",
    "---"
   ]
  },
  {
   "cell_type": "code",
   "execution_count": 2,
   "metadata": {},
   "outputs": [
    {
     "name": "stdout",
     "output_type": "stream",
     "text": [
      "Linear(in_features=3, out_features=4, bias=True)\n",
      "input (tensor([[1., 1., 1.]], requires_grad=True),)\n",
      "output tensor([[  7., -13.,  27., -29.]], grad_fn=<AddmmBackward>)\n",
      "\n",
      "ReLU()\n",
      "input (tensor([[  7., -13.,  27., -29.]], grad_fn=<AddmmBackward>),)\n",
      "output tensor([[ 7.,  0., 27.,  0.]], grad_fn=<ReluBackward0>)\n",
      "\n",
      "Linear(in_features=4, out_features=1, bias=True)\n",
      "input (tensor([[ 7.,  0., 27.,  0.]], grad_fn=<ReluBackward0>),)\n",
      "output tensor([[90.]], grad_fn=<AddmmBackward>)\n",
      "\n",
      "Linear(in_features=4, out_features=1, bias=True)\n",
      "grad_input (tensor([[1.]]),)\n",
      "grad_output (tensor([1.]), tensor([[1., 2., 3., 4.]]), tensor([[ 7.],\n",
      "        [ 0.],\n",
      "        [27.],\n",
      "        [ 0.]]))\n",
      "\n",
      "ReLU()\n",
      "grad_input (tensor([[1., 2., 3., 4.]]),)\n",
      "grad_output (tensor([[1., 0., 3., 0.]]),)\n",
      "\n",
      "Linear(in_features=3, out_features=4, bias=True)\n",
      "grad_input (tensor([[1., 0., 3., 0.]]),)\n",
      "grad_output (tensor([1., 0., 3., 0.]), tensor([[22., 26., 30.]]), tensor([[1., 0., 3., 0.],\n",
      "        [1., 0., 3., 0.],\n",
      "        [1., 0., 3., 0.]]))\n",
      "\n"
     ]
    }
   ],
   "source": [
    "# 注意下面代码中 x 的维度，对于linear module，输入一定是大于等于二维的\n",
    "# （第一维是 batch size）。在 forward hook 中看不出来，但是 backward hook 中，\n",
    "# 得到的梯度完全不对。\n",
    "# 有一篇 hook 的教程就是这里出了错，作者还强行解释\n",
    "x = torch.Tensor([[1.0, 1.0, 1.0]]).requires_grad_() \n",
    "o = model(x)\n",
    "o.backward()"
   ]
  }
 ],
 "metadata": {
  "kernelspec": {
   "display_name": "Python 3",
   "language": "python",
   "name": "python3"
  },
  "language_info": {
   "codemirror_mode": {
    "name": "ipython",
    "version": 3
   },
   "file_extension": ".py",
   "mimetype": "text/x-python",
   "name": "python",
   "nbconvert_exporter": "python",
   "pygments_lexer": "ipython3",
   "version": "3.7.6"
  }
 },
 "nbformat": 4,
 "nbformat_minor": 4
}
